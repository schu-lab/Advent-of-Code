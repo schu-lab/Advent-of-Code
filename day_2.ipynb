{
 "cells": [
  {
   "cell_type": "code",
   "execution_count": null,
   "metadata": {},
   "outputs": [],
   "source": [
    "\"\"\"\n",
    "Author: S. Chu\n",
    "Date:\n",
    "\n",
    "--- Day 2: Rock Paper Scissors ---\n",
    "The Elves begin to set up camp on the beach. To decide whose tent gets to be closest to the snack storage, a giant Rock Paper Scissors tournament is already in progress.\n",
    "\n",
    "Rock Paper Scissors is a game between two players. Each game contains many rounds; in each round, the players each simultaneously choose one of Rock, Paper, or Scissors using a hand shape. Then, a winner for that round is selected: Rock defeats Scissors, Scissors defeats Paper, and Paper defeats Rock. If both players choose the same shape, the round instead ends in a draw.\n",
    "\n",
    "Appreciative of your help yesterday, one Elf gives you an encrypted strategy guide (your puzzle input) that they say will be sure to help you win. \"The first column is what your opponent is going to play: A for Rock, B for Paper, and C for Scissors. The second column--\" Suddenly, the Elf is called away to help with someone's tent.\n",
    "\n",
    "The second column, you reason, must be what you should play in response: X for Rock, Y for Paper, and Z for Scissors. Winning every time would be suspicious, so the responses must have been carefully chosen.\n",
    "\n",
    "The winner of the whole tournament is the player with the highest score. Your total score is the sum of your scores for each round. The score for a single round is the score for the shape you selected (1 for Rock, 2 for Paper, and 3 for Scissors) plus the score for the outcome of the round (0 if you lost, 3 if the round was a draw, and 6 if you won).\n",
    "\n",
    "Since you can't be sure if the Elf is trying to help you or trick you, you should calculate the score you would get if you were to follow the strategy guide.\n",
    "\n",
    "For example, suppose you were given the following strategy guide:\n",
    "\n",
    "A Y\n",
    "B X\n",
    "C Z\n",
    "This strategy guide predicts and recommends the following:\n",
    "\n",
    "In the first round, your opponent will choose Rock (A), and you should choose Paper (Y). This ends in a win for you with a score of 8 (2 because you chose Paper + 6 because you won).\n",
    "In the second round, your opponent will choose Paper (B), and you should choose Rock (X). This ends in a loss for you with a score of 1 (1 + 0).\n",
    "The third round is a draw with both players choosing Scissors, giving you a score of 3 + 3 = 6.\n",
    "In this example, if you were to follow the strategy guide, you would get a total score of 15 (8 + 1 + 6).\n",
    "\n",
    "What would your total score be if everything goes exactly according to your strategy guide?\n",
    "\"\"\""
   ]
  },
  {
   "cell_type": "code",
   "execution_count": 15,
   "metadata": {},
   "outputs": [],
   "source": [
    "# Open file and check:\n",
    "filename = 'day_2.txt'\n",
    "\n",
    "with open(filename) as fh:\n",
    "    data = fh.readlines()\n"
   ]
  },
  {
   "cell_type": "code",
   "execution_count": 16,
   "metadata": {},
   "outputs": [],
   "source": [
    "# Function for Total Score:\n",
    "\n",
    "opponentdict = {\n",
    "    \"A\" : 1,        # A = Opponent - Rock\n",
    "    \"B\" : 2,        # B = Opponent - Paper\n",
    "    \"C\" : 3,        # C = Opponent - Scissors\n",
    "}\n",
    "playerdict = {\n",
    "    \"X\" : 1,        # X = Player - Rock\n",
    "    \"Y\" : 2,        # Y = Player - Paper\n",
    "    \"Z\" : 3         # Z = Player - Scissors\n",
    "}\n",
    "outcomedict ={\n",
    "    \"L\" : 0,        # Lose\n",
    "    \"T\" : 3,        # Tie\n",
    "    \"W\" : 6         # Win\n",
    "}\n",
    "\n",
    "def round(opponent, player):\n",
    "    opponentdict[opponent]\n",
    "    playerdict[player]\n",
    "    if opponent == 'A':         # A = Opponent - Rock\n",
    "        if player =='X':        # X = Player - Rock\n",
    "            outcome = outcomedict['T']\n",
    "        elif player == 'Y':     # Y = Player - Paper\n",
    "            outcome = outcomedict['W']\n",
    "        elif player == 'Z':     # Z = Player - Scissors\n",
    "            outcome = outcomedict['L']\n",
    "    if opponent == 'B':         # B = Opponent - Paper\n",
    "        if player =='X':        # X = Player - Rock\n",
    "            outcome = outcomedict['L']\n",
    "        elif player == 'Y':     # Y = Player - Paper\n",
    "            outcome = outcomedict['T']\n",
    "        elif player == 'Z':     # Z = Player - Scissors\n",
    "            outcome = outcomedict['W']\n",
    "    if opponent == 'C':         # C = Opponent - Scissors\n",
    "        if player =='X':        # X = Player - Rock\n",
    "            outcome = outcomedict['W']\n",
    "        elif player == 'Y':     # Y = Player - Paper\n",
    "            outcome = outcomedict['L']\n",
    "        elif player == 'Z':     # Z = Player - Scissors\n",
    "            outcome = outcomedict['T']\n",
    "    score = playerdict[player] + outcome\n",
    "    return score"
   ]
  },
  {
   "cell_type": "code",
   "execution_count": 23,
   "metadata": {},
   "outputs": [
    {
     "name": "stdout",
     "output_type": "stream",
     "text": [
      "Total Score (Player): 10404\n"
     ]
    }
   ],
   "source": [
    "# Function for Total Score:\n",
    "\n",
    "high_score = 0\n",
    "for line in data:\n",
    "    splitline = line.split()\n",
    "    opponent = splitline[0]\n",
    "    player = splitline[1]\n",
    "    outcome = round(opponent, player)\n",
    "    # print(\"Opponent: \" + opponent + \"; Player: \" + player + \"; Result: \" + str(outcome))\n",
    "    high_score += outcome\n",
    "print(\"Total Score (Player): \" + str(high_score))\n",
    "\n"
   ]
  },
  {
   "cell_type": "code",
   "execution_count": null,
   "metadata": {},
   "outputs": [],
   "source": [
    "\"\"\"\n",
    "--- Part Two ---\n",
    "The Elf finishes helping with the tent and sneaks back over to you. \"Anyway, the second column says how the round needs to end: X means you need to lose, Y means you need to end the round in a draw, and Z means you need to win. Good luck!\"\n",
    "\n",
    "The total score is still calculated in the same way, but now you need to figure out what shape to choose so the round ends as indicated. The example above now goes like this:\n",
    "\n",
    "In the first round, your opponent will choose Rock (A), and you need the round to end in a draw (Y), so you also choose Rock. This gives you a score of 1 + 3 = 4.\n",
    "In the second round, your opponent will choose Paper (B), and you choose Rock so you lose (X) with a score of 1 + 0 = 1.\n",
    "In the third round, you will defeat your opponent's Scissors with Rock for a score of 1 + 6 = 7.\n",
    "Now that you're correctly decrypting the ultra top secret strategy guide, you would get a total score of 12.\n",
    "\n",
    "Following the Elf's instructions for the second column, what would your total score be if everything goes exactly according to your strategy guide?\n",
    "\"\"\""
   ]
  },
  {
   "cell_type": "code",
   "execution_count": 24,
   "metadata": {},
   "outputs": [],
   "source": [
    "# Changing Rules from Player R/P/S to Player W/T/L\n",
    "\n",
    "def strategy(opponent, guide):\n",
    "    opponentdict[opponent]\n",
    "    if opponent == 'A':                 # A = Opponent - Rock\n",
    "        if guide =='X':                 # X = Player must LOSE\n",
    "            outcome = outcomedict['L']\n",
    "            selection = playerdict['Z'] # Z = Player - Scissor\n",
    "        elif guide == 'Y':              # Y = Player must DRAW\n",
    "            outcome = outcomedict['T']\n",
    "            selection = playerdict['X'] # X = Player - Rock\n",
    "        elif guide == 'Z':             # Z = Player must WIN\n",
    "            outcome = outcomedict['W']\n",
    "            selection = playerdict['Y'] # Y = Player - Paper\n",
    "    if opponent == 'B':                 # B = Opponent - Paper\n",
    "        if guide =='X':                 # X = Player must LOSE\n",
    "            outcome = outcomedict['L']\n",
    "            selection = playerdict['X'] # X = Player - Rock\n",
    "        elif guide == 'Y':              # Y = Player must DRAW\n",
    "            outcome = outcomedict['T']\n",
    "            selection = playerdict['Y'] # Y = Player - Paper\n",
    "        elif guide == 'Z':              # Z = Player must WIN\n",
    "            outcome = outcomedict['W']\n",
    "            selection = playerdict['Z'] # Z = Player - Scissor\n",
    "    if opponent == 'C':                 # C = Opponent - Scissor\n",
    "        if guide =='X':                 # X = Player must LOSE\n",
    "            outcome = outcomedict['L']\n",
    "            selection = playerdict['Y'] # Y = Player - Paper\n",
    "        elif guide == 'Y':              # Y = Player must DRAW\n",
    "            outcome = outcomedict['T']\n",
    "            selection = playerdict['Z'] # Z = Player - Scissor\n",
    "        elif guide == 'Z':              # Z = Player must WIN\n",
    "            outcome = outcomedict['W']\n",
    "            selection = playerdict['X'] # X = Player - Rock\n",
    "    score = outcome + selection\n",
    "    return score"
   ]
  },
  {
   "cell_type": "code",
   "execution_count": 26,
   "metadata": {},
   "outputs": [
    {
     "name": "stdout",
     "output_type": "stream",
     "text": [
      "Total Score (Player/Recommendation): 10334\n"
     ]
    }
   ],
   "source": [
    "# Function for Strategy Guide:\n",
    "\n",
    "high_score = 0\n",
    "for line in data:\n",
    "    splitline = line.split()\n",
    "    opponent = splitline[0]\n",
    "    guide = splitline[1]\n",
    "    outcome = strategy(opponent, guide)\n",
    "    # print(\"Opponent: \" + opponent + \"; Strategy Guide Recommendation: \" + guide\n",
    "    #       + \"; Result: \" + str(outcome))\n",
    "    high_score += outcome\n",
    "print(\"Total Score (Player/Recommendation): \" + str(high_score))\n"
   ]
  }
 ],
 "metadata": {
  "kernelspec": {
   "display_name": "Python 3",
   "language": "python",
   "name": "python3"
  },
  "language_info": {
   "codemirror_mode": {
    "name": "ipython",
    "version": 3
   },
   "file_extension": ".py",
   "mimetype": "text/x-python",
   "name": "python",
   "nbconvert_exporter": "python",
   "pygments_lexer": "ipython3",
   "version": "3.11.6"
  }
 },
 "nbformat": 4,
 "nbformat_minor": 2
}
