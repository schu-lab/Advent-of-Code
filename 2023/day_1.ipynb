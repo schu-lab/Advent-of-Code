{
 "cells": [
  {
   "cell_type": "code",
   "execution_count": 1,
   "metadata": {},
   "outputs": [
    {
     "data": {
      "text/plain": [
       "'\\nAuthor: S. Chu\\nDate: 2023-12-01\\n\\n--- Day 1: Trebuchet?! ---\\nSomething is wrong with global snow production, and you\\'ve been selected to take a look. The Elves have even given you a map; on it, they\\'ve used stars to mark the top fifty locations that are likely to be having problems.\\n\\nYou\\'ve been doing this long enough to know that to restore snow operations, you need to check all fifty stars by December 25th.\\n\\nCollect stars by solving puzzles. Two puzzles will be made available on each day in the Advent calendar; the second puzzle is unlocked when you complete the first. Each puzzle grants one star. Good luck!\\n\\nYou try to ask why they can\\'t just use a weather machine (\"not powerful enough\") and where they\\'re even sending you (\"the sky\") and why your map looks mostly blank (\"you sure ask a lot of questions\") and hang on did you just say the sky (\"of course, where do you think snow comes from\") when you realize that the Elves are already loading you into a trebuchet (\"please hold still, we need to strap you in\").\\n\\nAs they\\'re making the final adjustments, they discover that their calibration document (your puzzle input) has been amended by a very young Elf who was apparently just excited to show off her art skills. Consequently, the Elves are having trouble reading the values on the document.\\n\\nThe newly-improved calibration document consists of lines of text; each line originally contained a specific calibration value that the Elves now need to recover. On each line, the calibration value can be found by combining the first digit and the last digit (in that order) to form a single two-digit number.\\n\\nFor example:\\n\\n1abc2\\npqr3stu8vwx\\na1b2c3d4e5f\\ntreb7uchet\\nIn this example, the calibration values of these four lines are 12, 38, 15, and 77. Adding these together produces 142.\\n\\nConsider your entire calibration document. What is the sum of all of the calibration values?\\n'"
      ]
     },
     "execution_count": 1,
     "metadata": {},
     "output_type": "execute_result"
    }
   ],
   "source": [
    "\"\"\"\n",
    "Author: S. Chu\n",
    "Date: 2023-12-01\n",
    "\n",
    "--- Day 1: Trebuchet?! ---\n",
    "Something is wrong with global snow production, and you've been selected to take a look. The Elves have even given you a map; on it, they've used stars to mark the top fifty locations that are likely to be having problems.\n",
    "\n",
    "You've been doing this long enough to know that to restore snow operations, you need to check all fifty stars by December 25th.\n",
    "\n",
    "Collect stars by solving puzzles. Two puzzles will be made available on each day in the Advent calendar; the second puzzle is unlocked when you complete the first. Each puzzle grants one star. Good luck!\n",
    "\n",
    "You try to ask why they can't just use a weather machine (\"not powerful enough\") and where they're even sending you (\"the sky\") and why your map looks mostly blank (\"you sure ask a lot of questions\") and hang on did you just say the sky (\"of course, where do you think snow comes from\") when you realize that the Elves are already loading you into a trebuchet (\"please hold still, we need to strap you in\").\n",
    "\n",
    "As they're making the final adjustments, they discover that their calibration document (your puzzle input) has been amended by a very young Elf who was apparently just excited to show off her art skills. Consequently, the Elves are having trouble reading the values on the document.\n",
    "\n",
    "The newly-improved calibration document consists of lines of text; each line originally contained a specific calibration value that the Elves now need to recover. On each line, the calibration value can be found by combining the first digit and the last digit (in that order) to form a single two-digit number.\n",
    "\n",
    "For example:\n",
    "\n",
    "1abc2\n",
    "pqr3stu8vwx\n",
    "a1b2c3d4e5f\n",
    "treb7uchet\n",
    "In this example, the calibration values of these four lines are 12, 38, 15, and 77. Adding these together produces 142.\n",
    "\n",
    "Consider your entire calibration document. What is the sum of all of the calibration values?\n",
    "\"\"\"\n"
   ]
  },
  {
   "cell_type": "code",
   "execution_count": 2,
   "metadata": {},
   "outputs": [],
   "source": [
    "filename = 'day_1.txt'\n",
    "\n",
    "with open(filename) as fh:\n",
    "    data = fh.readlines()\n"
   ]
  },
  {
   "cell_type": "code",
   "execution_count": 3,
   "metadata": {},
   "outputs": [
    {
     "name": "stdout",
     "output_type": "stream",
     "text": [
      "Total Calibration Value: 54632\n"
     ]
    }
   ],
   "source": [
    "def digits_cal_values(data):\n",
    "    total_sum = 0\n",
    "    for line in data:\n",
    "        digits = []\n",
    "        for char in line:\n",
    "            if char.isdigit():\n",
    "                digits.append(char)\n",
    "        # print(digits)\n",
    "        if digits:\n",
    "            first_digit = int(digits[0])\n",
    "            last_digit = int(digits[-1])\n",
    "            # print(\"First Digit: \" + first_digit + \"; Last Digit: \" + last_digit)\n",
    "            cal_value = (first_digit * 10) + last_digit\n",
    "            # print(\"Calibration Value: \" + str(cal_value))\n",
    "            total_sum += cal_value\n",
    "    return total_sum\n",
    "\n",
    "total_sum = digits_cal_values(data)\n",
    "print(\"Total Calibration Value: \" + str(total_sum))\n"
   ]
  },
  {
   "cell_type": "code",
   "execution_count": 4,
   "metadata": {},
   "outputs": [
    {
     "data": {
      "text/plain": [
       "'\\n--- Part Two ---\\nYour calculation isn\\'t quite right. It looks like some of the digits are actually spelled out with letters: one, two, three, four, five, six, seven, eight, and nine also count as valid \"digits\".\\n\\nEquipped with this new information, you now need to find the real first and last digit on each line. For example:\\n\\ntwo1nine\\neightwothree\\nabcone2threexyz\\nxtwone3four\\n4nineeightseven2\\nzoneight234\\n7pqrstsixteen\\nIn this example, the calibration values are 29, 83, 13, 24, 42, 14, and 76. Adding these together produces 281.\\n\\nWhat is the sum of all of the calibration values?\\n'"
      ]
     },
     "execution_count": 4,
     "metadata": {},
     "output_type": "execute_result"
    }
   ],
   "source": [
    "\"\"\"\n",
    "--- Part Two ---\n",
    "Your calculation isn't quite right. It looks like some of the digits are actually spelled out with letters: one, two, three, four, five, six, seven, eight, and nine also count as valid \"digits\".\n",
    "\n",
    "Equipped with this new information, you now need to find the real first and last digit on each line. For example:\n",
    "\n",
    "two1nine\n",
    "eightwothree\n",
    "abcone2threexyz\n",
    "xtwone3four\n",
    "4nineeightseven2\n",
    "zoneight234\n",
    "7pqrstsixteen\n",
    "In this example, the calibration values are 29, 83, 13, 24, 42, 14, and 76. Adding these together produces 281.\n",
    "\n",
    "What is the sum of all of the calibration values?\n",
    "\"\"\"\n"
   ]
  },
  {
   "cell_type": "code",
   "execution_count": 5,
   "metadata": {},
   "outputs": [
    {
     "name": "stdout",
     "output_type": "stream",
     "text": [
      "Real Total Calibration Value: 54019\n"
     ]
    }
   ],
   "source": [
    "def parse_cal_values(data):\n",
    "    digit_map = {\n",
    "        \"zero\": 0, \"one\": 1, \"two\": 2, \"three\": 3, \"four\": 4,\n",
    "        \"five\": 5, \"six\": 6, \"seven\": 7, \"eight\": 8, \"nine\": 9\n",
    "    }\n",
    "    total_sum = 0\n",
    "    for line in data:\n",
    "        current = ''\n",
    "        for i in range(len(line)):\n",
    "            character = line[i]\n",
    "            if character.isdigit():\n",
    "                current += character\n",
    "            else:\n",
    "                for key, value in digit_map.items():\n",
    "                    if line.startswith(key, i):\n",
    "                        current += str(value)\n",
    "        # print(\"Current Line: \" + current)\n",
    "        if current:\n",
    "            first_digit = int(current[0])\n",
    "            last_digit = int(current[-1])\n",
    "            # print(\"First Digit: \" + first_digit + \"; Last Digit: \" + last_digit)\n",
    "            cal_value = (first_digit * 10) + last_digit\n",
    "            # print(\"Calibration Value: \" + str(cal_value))\n",
    "            total_sum += cal_value\n",
    "    return total_sum\n",
    "\n",
    "new_total_sum = parse_cal_values(data)\n",
    "print(\"Real Total Calibration Value: \" + str(new_total_sum))"
   ]
  }
 ],
 "metadata": {
  "kernelspec": {
   "display_name": "Python 3",
   "language": "python",
   "name": "python3"
  },
  "language_info": {
   "codemirror_mode": {
    "name": "ipython",
    "version": 3
   },
   "file_extension": ".py",
   "mimetype": "text/x-python",
   "name": "python",
   "nbconvert_exporter": "python",
   "pygments_lexer": "ipython3",
   "version": "3.11.6"
  }
 },
 "nbformat": 4,
 "nbformat_minor": 2
}
